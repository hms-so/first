{
 "cells": [
  {
   "cell_type": "code",
   "execution_count": 6,
   "id": "2b370fe7",
   "metadata": {},
   "outputs": [],
   "source": [
    "import numpy as np"
   ]
  },
  {
   "cell_type": "code",
   "execution_count": 9,
   "id": "c7f5785f",
   "metadata": {},
   "outputs": [],
   "source": [
    "#Count the number of steps\n",
    "def steps(init,rec,n):\n",
    "    for e in range(n):\n",
    "        for i in range(n):\n",
    "            #This vector dx and dy\n",
    "            print(\"\\nenter vector (separat by space)\")\n",
    "            vec = np.array(list(map(int,input().split())))\n",
    "            print(\"vector: \",vec)\n",
    "            \n",
    "            #nos: number of steps\n",
    "            nos = vec + init\n",
    "            while np.all(nos < rec) and np.all(nos > (0,0)) :\n",
    "                print(\"nos\",nos,\"vec\",vec,\"init\",init)\n",
    "                nos = vec + init\n",
    "                init=nos\n",
    "                if np.all(nos > rec):\n",
    "                    continue\n",
    "                print(\"nos\",nos,\"vec\",vec,\"init\",init)\n",
    "            break\n",
    "        \n",
    "    print(\"\\nplease enter another vector \",nos)\n",
    "    print(\"\\nnumber of steps =\",nos[0])"
   ]
  },
  {
   "cell_type": "code",
   "execution_count": 10,
   "id": "c783d3c3",
   "metadata": {},
   "outputs": [
    {
     "name": "stdout",
     "output_type": "stream",
     "text": [
      "enter lenght and width (separat by space)\n",
      "10 10\n",
      "lenght and width:  [10 10]\n",
      "\n",
      "enter initial position (separat by space)\n",
      "1 2\n",
      "initial position  [1 2]\n",
      "\n",
      "n = number of vectors: 1\n",
      "\n",
      "enter vector (separat by space)\n",
      "-1 0\n",
      "vector:  [-1  0]\n",
      "\n",
      "please enter another vector  [0 2]\n",
      "\n",
      "number of steps = 0\n"
     ]
    }
   ],
   "source": [
    "#Rectangle the yard's sizes\n",
    "print(\"enter lenght and width (separat by space)\")\n",
    "rec = np.array(list(map(int,input().split())))\n",
    "print(\"lenght and width: \",rec)\n",
    "\n",
    "#Initial position\n",
    "print(\"\\nenter initial position (separat by space)\")\n",
    "init = np.array(list(map(int,input().split())))\n",
    "print(\"initial position \",init)\n",
    "\n",
    "#Number of vectors\n",
    "n = int(input(\"\\nn = number of vectors: \"))\n",
    "\n",
    "\n",
    "steps(init,rec,n)"
   ]
  },
  {
   "cell_type": "code",
   "execution_count": null,
   "id": "5f00cdbf",
   "metadata": {},
   "outputs": [],
   "source": []
  }
 ],
 "metadata": {
  "kernelspec": {
   "display_name": "Python 3 (ipykernel)",
   "language": "python",
   "name": "python3"
  },
  "language_info": {
   "codemirror_mode": {
    "name": "ipython",
    "version": 3
   },
   "file_extension": ".py",
   "mimetype": "text/x-python",
   "name": "python",
   "nbconvert_exporter": "python",
   "pygments_lexer": "ipython3",
   "version": "3.9.13"
  }
 },
 "nbformat": 4,
 "nbformat_minor": 5
}
