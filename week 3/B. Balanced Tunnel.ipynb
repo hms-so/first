{
 "cells": [
  {
   "cell_type": "code",
   "execution_count": 2,
   "id": "7df0c664",
   "metadata": {},
   "outputs": [
    {
     "name": "stdout",
     "output_type": "stream",
     "text": [
      "Number of total cars : 2\n",
      "Number of cars that enter (separated by spaces) : 1 2\n",
      "Number of cars that exit  (separated by spaces) : 1 2\n",
      "Number of cars to be fined : 0\n"
     ]
    }
   ],
   "source": [
    "num = int(input(\"Number of total cars : \"))\n",
    "ent = list(map(int, input(\"Number of cars that enter (separated by spaces) : \").split()))\n",
    "ext = list(map(int, input(\"Number of cars that exit  (separated by spaces) : \").split()))\n",
    "\n",
    "n = 0  # number of cars to be fined\n",
    "\n",
    "for i in ent:\n",
    "    for j in ext:\n",
    "        if i == j:\n",
    "            index_ent = ent.index(i)\n",
    "            index_ext = ext.index(j)\n",
    "            # print(index_ent, index_ext)  # output will be index element i from ent and index element j from ext\n",
    "\n",
    "            if index_ent < index_ext:\n",
    "                n\n",
    "                # print(\"car not fined\")\n",
    "            elif index_ent > index_ext:\n",
    "                n += 1\n",
    "                # print(\"car fined\")\n",
    "            else:\n",
    "                prev_ent = ent[:index_ent]  # the previous elements of index_ent\n",
    "                prev_ext = ext[:index_ext]  # the previous elements of index_ext\n",
    "                if prev_ent != prev_ext:\n",
    "                    n += 1\n",
    "                    # print(\"car fined\")\n",
    "\n",
    "print(\"Number of cars to be fined :\", n)\n"
   ]
  },
  {
   "cell_type": "code",
   "execution_count": null,
   "id": "bf8f6b40",
   "metadata": {},
   "outputs": [],
   "source": []
  }
 ],
 "metadata": {
  "kernelspec": {
   "display_name": "Python 3 (ipykernel)",
   "language": "python",
   "name": "python3"
  },
  "language_info": {
   "codemirror_mode": {
    "name": "ipython",
    "version": 3
   },
   "file_extension": ".py",
   "mimetype": "text/x-python",
   "name": "python",
   "nbconvert_exporter": "python",
   "pygments_lexer": "ipython3",
   "version": "3.9.13"
  }
 },
 "nbformat": 4,
 "nbformat_minor": 5
}
