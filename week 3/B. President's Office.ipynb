{
 "cells": [
  {
   "cell_type": "code",
   "execution_count": 8,
   "id": "73775c9e",
   "metadata": {},
   "outputs": [
    {
     "name": "stdout",
     "output_type": "stream",
     "text": [
      "Enter the number of rows: 3\n",
      "Enter the number of columns: 4\n",
      "Enter the color of desk (uppercase letters): R\n",
      "Enter row and column (separated by spaces):\n",
      "G . B .\n",
      ". R R .\n",
      "T T T .\n",
      "['G', '.', 'B', '.']\n",
      "['.', 'R', 'R', '.']\n",
      "['T', 'T', 'T', '.']\n",
      "\n",
      "The amount of President's deputies:  2\n"
     ]
    }
   ],
   "source": [
    "row = int(input(\"Enter the number of rows: \")) # length of office room\n",
    "col = int(input(\"Enter the number of columns: \")) # width of office room\n",
    "clr = input(\"Enter the color of desk (uppercase letters): \") # colour of President's desk\n",
    "\n",
    "# taking input for the matrix\n",
    "matrix = [] # office room\n",
    "print(\"Enter row and column (separated by spaces):\")\n",
    "for i in range(row):\n",
    "    item = list(input().split())\n",
    "    matrix.append(item)\n",
    "\n",
    "# print the matrix (office room)\n",
    "for item in matrix:\n",
    "    print(item)\n",
    "\n",
    "pos_r = [-1, 0, 1, 0] # the four directions in row\n",
    "pos_c = [0, 1, 0, -1] # the four directions in column\n",
    "found_element = set() # set of recurring elements\n",
    "\n",
    "for x in range(row):\n",
    "    for y in range(col):\n",
    "        if clr == matrix[x][y]:\n",
    "            for ele in range(col):\n",
    "                # position of deputy's office\n",
    "                pos_x = x + pos_r[ele]\n",
    "                pos_y = y + pos_c[ele]\n",
    "                if row > pos_x >= 0 and col > pos_y >= 0:\n",
    "                    if matrix[pos_x][pos_y] != clr and matrix[pos_x][pos_y] != '.' and (pos_x, pos_y) not in found_element:\n",
    "                        found_element.add(matrix[pos_x][pos_y])\n",
    "\n",
    "print(\"\\nThe amount of President's deputies: \",len(found_element))    \n"
   ]
  },
  {
   "cell_type": "code",
   "execution_count": null,
   "id": "a04d8695",
   "metadata": {},
   "outputs": [],
   "source": []
  }
 ],
 "metadata": {
  "kernelspec": {
   "display_name": "Python 3 (ipykernel)",
   "language": "python",
   "name": "python3"
  },
  "language_info": {
   "codemirror_mode": {
    "name": "ipython",
    "version": 3
   },
   "file_extension": ".py",
   "mimetype": "text/x-python",
   "name": "python",
   "nbconvert_exporter": "python",
   "pygments_lexer": "ipython3",
   "version": "3.9.13"
  }
 },
 "nbformat": 4,
 "nbformat_minor": 5
}
